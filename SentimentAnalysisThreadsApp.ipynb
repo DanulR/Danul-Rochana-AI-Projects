{
  "nbformat": 4,
  "nbformat_minor": 0,
  "metadata": {
    "colab": {
      "provenance": [],
      "gpuType": "T4",
      "mount_file_id": "1AL8WAR_qD5Ql-FIQhgQYB8BZvIZnE6VW",
      "authorship_tag": "ABX9TyNSakm8MxgBWXKDmvVlwHC6",
      "include_colab_link": true
    },
    "kernelspec": {
      "name": "python3",
      "display_name": "Python 3"
    },
    "language_info": {
      "name": "python"
    },
    "accelerator": "GPU"
  },
  "cells": [
    {
      "cell_type": "markdown",
      "metadata": {
        "id": "view-in-github",
        "colab_type": "text"
      },
      "source": [
        "<a href=\"https://colab.research.google.com/github/DanulR/Danul-Rochana-AI-Projects/blob/main/SentimentAnalysisThreadsApp.ipynb\" target=\"_parent\"><img src=\"https://colab.research.google.com/assets/colab-badge.svg\" alt=\"Open In Colab\"/></a>"
      ]
    },
    {
      "cell_type": "code",
      "execution_count": 35,
      "metadata": {
        "id": "lfesls730YPR"
      },
      "outputs": [],
      "source": [
        "import torch\n",
        "torch.cuda.is_available()\n",
        "\n",
        "import numpy as np # linear algebra\n",
        "import pandas as pd # data processing, CSV file I/O (e.g. pd.read_csv)\n",
        "\n",
        "from sklearn.feature_extraction.text import CountVectorizer\n",
        "from keras.preprocessing.text import Tokenizer\n",
        "from tensorflow.keras.preprocessing.sequence import pad_sequences\n",
        "from keras.models import Sequential\n",
        "from keras.layers import Dense, Embedding, LSTM, SpatialDropout1D\n",
        "from sklearn.model_selection import train_test_split\n",
        "from keras.utils.np_utils import to_categorical\n",
        "import re\n"
      ]
    },
    {
      "cell_type": "code",
      "source": [
        "dataset = pd.read_csv('/content/drive/MyDrive/Colab Notebooks/Datasets/37000_reviews_of_thread_app.csv')"
      ],
      "metadata": {
        "id": "-rWB9boFtHg4"
      },
      "execution_count": 36,
      "outputs": []
    },
    {
      "cell_type": "code",
      "source": [
        "dataset.head()"
      ],
      "metadata": {
        "colab": {
          "base_uri": "https://localhost:8080/",
          "height": 417
        },
        "id": "JfTiM-bdzcH4",
        "outputId": "19af10d7-0494-4617-8d39-c873c6309234"
      },
      "execution_count": 37,
      "outputs": [
        {
          "output_type": "execute_result",
          "data": {
            "text/plain": [
              "   Unnamed: 0       source                             review_id  \\\n",
              "0           0  Google Play  7cd90e5b-4829-43b9-9fb4-c8c6d1e339c1   \n",
              "1           1  Google Play  6deb8265-2bac-4524-bcb6-f90829fa4e69   \n",
              "2           2  Google Play  91ef61ce-0f05-4f3b-b3d3-5d19cd408ab8   \n",
              "3           3  Google Play  b7721b78-6b77-4f8c-a1d3-a854af4c1f0f   \n",
              "4           4  Google Play  c89ef522-c94c-4171-878f-1d672dce7f11   \n",
              "\n",
              "                    user_name review_title  \\\n",
              "0             Eddie Clark Jr.          NaN   \n",
              "1                     Rasa RT          NaN   \n",
              "2  SITI NUR HAFIZA BINTI AZIZ          NaN   \n",
              "3               Asap Khalifah          NaN   \n",
              "4                Syed Hussein          NaN   \n",
              "\n",
              "                                  review_description  rating  thumbs_up  \\\n",
              "0                                               Good       5        0.0   \n",
              "1                               Weak copy of Twitter       1        0.0   \n",
              "2  i wish threads have a save button for images a...       3        0.0   \n",
              "3                                            Love it       5        0.0   \n",
              "4                                           Very god       5        0.0   \n",
              "\n",
              "           review_date  developer_response  developer_response_date  \\\n",
              "0  2023-08-07 19:14:36                 NaN                      NaN   \n",
              "1  2023-08-07 19:07:04                 NaN                      NaN   \n",
              "2  2023-08-07 18:57:07                 NaN                      NaN   \n",
              "3  2023-08-07 18:37:16                 NaN                      NaN   \n",
              "4  2023-08-07 18:14:15                 NaN                      NaN   \n",
              "\n",
              "       appVersion laguage_code country_code  \n",
              "0  294.0.0.27.110           en           us  \n",
              "1             NaN           en           us  \n",
              "2  294.0.0.27.110           en           us  \n",
              "3             NaN           en           us  \n",
              "4             NaN           en           us  "
            ],
            "text/html": [
              "\n",
              "  <div id=\"df-4bd84b80-f574-4672-b9e2-533dadea1cd7\" class=\"colab-df-container\">\n",
              "    <div>\n",
              "<style scoped>\n",
              "    .dataframe tbody tr th:only-of-type {\n",
              "        vertical-align: middle;\n",
              "    }\n",
              "\n",
              "    .dataframe tbody tr th {\n",
              "        vertical-align: top;\n",
              "    }\n",
              "\n",
              "    .dataframe thead th {\n",
              "        text-align: right;\n",
              "    }\n",
              "</style>\n",
              "<table border=\"1\" class=\"dataframe\">\n",
              "  <thead>\n",
              "    <tr style=\"text-align: right;\">\n",
              "      <th></th>\n",
              "      <th>Unnamed: 0</th>\n",
              "      <th>source</th>\n",
              "      <th>review_id</th>\n",
              "      <th>user_name</th>\n",
              "      <th>review_title</th>\n",
              "      <th>review_description</th>\n",
              "      <th>rating</th>\n",
              "      <th>thumbs_up</th>\n",
              "      <th>review_date</th>\n",
              "      <th>developer_response</th>\n",
              "      <th>developer_response_date</th>\n",
              "      <th>appVersion</th>\n",
              "      <th>laguage_code</th>\n",
              "      <th>country_code</th>\n",
              "    </tr>\n",
              "  </thead>\n",
              "  <tbody>\n",
              "    <tr>\n",
              "      <th>0</th>\n",
              "      <td>0</td>\n",
              "      <td>Google Play</td>\n",
              "      <td>7cd90e5b-4829-43b9-9fb4-c8c6d1e339c1</td>\n",
              "      <td>Eddie Clark Jr.</td>\n",
              "      <td>NaN</td>\n",
              "      <td>Good</td>\n",
              "      <td>5</td>\n",
              "      <td>0.0</td>\n",
              "      <td>2023-08-07 19:14:36</td>\n",
              "      <td>NaN</td>\n",
              "      <td>NaN</td>\n",
              "      <td>294.0.0.27.110</td>\n",
              "      <td>en</td>\n",
              "      <td>us</td>\n",
              "    </tr>\n",
              "    <tr>\n",
              "      <th>1</th>\n",
              "      <td>1</td>\n",
              "      <td>Google Play</td>\n",
              "      <td>6deb8265-2bac-4524-bcb6-f90829fa4e69</td>\n",
              "      <td>Rasa RT</td>\n",
              "      <td>NaN</td>\n",
              "      <td>Weak copy of Twitter</td>\n",
              "      <td>1</td>\n",
              "      <td>0.0</td>\n",
              "      <td>2023-08-07 19:07:04</td>\n",
              "      <td>NaN</td>\n",
              "      <td>NaN</td>\n",
              "      <td>NaN</td>\n",
              "      <td>en</td>\n",
              "      <td>us</td>\n",
              "    </tr>\n",
              "    <tr>\n",
              "      <th>2</th>\n",
              "      <td>2</td>\n",
              "      <td>Google Play</td>\n",
              "      <td>91ef61ce-0f05-4f3b-b3d3-5d19cd408ab8</td>\n",
              "      <td>SITI NUR HAFIZA BINTI AZIZ</td>\n",
              "      <td>NaN</td>\n",
              "      <td>i wish threads have a save button for images a...</td>\n",
              "      <td>3</td>\n",
              "      <td>0.0</td>\n",
              "      <td>2023-08-07 18:57:07</td>\n",
              "      <td>NaN</td>\n",
              "      <td>NaN</td>\n",
              "      <td>294.0.0.27.110</td>\n",
              "      <td>en</td>\n",
              "      <td>us</td>\n",
              "    </tr>\n",
              "    <tr>\n",
              "      <th>3</th>\n",
              "      <td>3</td>\n",
              "      <td>Google Play</td>\n",
              "      <td>b7721b78-6b77-4f8c-a1d3-a854af4c1f0f</td>\n",
              "      <td>Asap Khalifah</td>\n",
              "      <td>NaN</td>\n",
              "      <td>Love it</td>\n",
              "      <td>5</td>\n",
              "      <td>0.0</td>\n",
              "      <td>2023-08-07 18:37:16</td>\n",
              "      <td>NaN</td>\n",
              "      <td>NaN</td>\n",
              "      <td>NaN</td>\n",
              "      <td>en</td>\n",
              "      <td>us</td>\n",
              "    </tr>\n",
              "    <tr>\n",
              "      <th>4</th>\n",
              "      <td>4</td>\n",
              "      <td>Google Play</td>\n",
              "      <td>c89ef522-c94c-4171-878f-1d672dce7f11</td>\n",
              "      <td>Syed Hussein</td>\n",
              "      <td>NaN</td>\n",
              "      <td>Very god</td>\n",
              "      <td>5</td>\n",
              "      <td>0.0</td>\n",
              "      <td>2023-08-07 18:14:15</td>\n",
              "      <td>NaN</td>\n",
              "      <td>NaN</td>\n",
              "      <td>NaN</td>\n",
              "      <td>en</td>\n",
              "      <td>us</td>\n",
              "    </tr>\n",
              "  </tbody>\n",
              "</table>\n",
              "</div>\n",
              "    <div class=\"colab-df-buttons\">\n",
              "\n",
              "  <div class=\"colab-df-container\">\n",
              "    <button class=\"colab-df-convert\" onclick=\"convertToInteractive('df-4bd84b80-f574-4672-b9e2-533dadea1cd7')\"\n",
              "            title=\"Convert this dataframe to an interactive table.\"\n",
              "            style=\"display:none;\">\n",
              "\n",
              "  <svg xmlns=\"http://www.w3.org/2000/svg\" height=\"24px\" viewBox=\"0 -960 960 960\">\n",
              "    <path d=\"M120-120v-720h720v720H120Zm60-500h600v-160H180v160Zm220 220h160v-160H400v160Zm0 220h160v-160H400v160ZM180-400h160v-160H180v160Zm440 0h160v-160H620v160ZM180-180h160v-160H180v160Zm440 0h160v-160H620v160Z\"/>\n",
              "  </svg>\n",
              "    </button>\n",
              "\n",
              "  <style>\n",
              "    .colab-df-container {\n",
              "      display:flex;\n",
              "      gap: 12px;\n",
              "    }\n",
              "\n",
              "    .colab-df-convert {\n",
              "      background-color: #E8F0FE;\n",
              "      border: none;\n",
              "      border-radius: 50%;\n",
              "      cursor: pointer;\n",
              "      display: none;\n",
              "      fill: #1967D2;\n",
              "      height: 32px;\n",
              "      padding: 0 0 0 0;\n",
              "      width: 32px;\n",
              "    }\n",
              "\n",
              "    .colab-df-convert:hover {\n",
              "      background-color: #E2EBFA;\n",
              "      box-shadow: 0px 1px 2px rgba(60, 64, 67, 0.3), 0px 1px 3px 1px rgba(60, 64, 67, 0.15);\n",
              "      fill: #174EA6;\n",
              "    }\n",
              "\n",
              "    .colab-df-buttons div {\n",
              "      margin-bottom: 4px;\n",
              "    }\n",
              "\n",
              "    [theme=dark] .colab-df-convert {\n",
              "      background-color: #3B4455;\n",
              "      fill: #D2E3FC;\n",
              "    }\n",
              "\n",
              "    [theme=dark] .colab-df-convert:hover {\n",
              "      background-color: #434B5C;\n",
              "      box-shadow: 0px 1px 3px 1px rgba(0, 0, 0, 0.15);\n",
              "      filter: drop-shadow(0px 1px 2px rgba(0, 0, 0, 0.3));\n",
              "      fill: #FFFFFF;\n",
              "    }\n",
              "  </style>\n",
              "\n",
              "    <script>\n",
              "      const buttonEl =\n",
              "        document.querySelector('#df-4bd84b80-f574-4672-b9e2-533dadea1cd7 button.colab-df-convert');\n",
              "      buttonEl.style.display =\n",
              "        google.colab.kernel.accessAllowed ? 'block' : 'none';\n",
              "\n",
              "      async function convertToInteractive(key) {\n",
              "        const element = document.querySelector('#df-4bd84b80-f574-4672-b9e2-533dadea1cd7');\n",
              "        const dataTable =\n",
              "          await google.colab.kernel.invokeFunction('convertToInteractive',\n",
              "                                                    [key], {});\n",
              "        if (!dataTable) return;\n",
              "\n",
              "        const docLinkHtml = 'Like what you see? Visit the ' +\n",
              "          '<a target=\"_blank\" href=https://colab.research.google.com/notebooks/data_table.ipynb>data table notebook</a>'\n",
              "          + ' to learn more about interactive tables.';\n",
              "        element.innerHTML = '';\n",
              "        dataTable['output_type'] = 'display_data';\n",
              "        await google.colab.output.renderOutput(dataTable, element);\n",
              "        const docLink = document.createElement('div');\n",
              "        docLink.innerHTML = docLinkHtml;\n",
              "        element.appendChild(docLink);\n",
              "      }\n",
              "    </script>\n",
              "  </div>\n",
              "\n",
              "\n",
              "<div id=\"df-bf3ad258-cdc3-48f9-bb1b-1fe533b6f46c\">\n",
              "  <button class=\"colab-df-quickchart\" onclick=\"quickchart('df-bf3ad258-cdc3-48f9-bb1b-1fe533b6f46c')\"\n",
              "            title=\"Suggest charts.\"\n",
              "            style=\"display:none;\">\n",
              "\n",
              "<svg xmlns=\"http://www.w3.org/2000/svg\" height=\"24px\"viewBox=\"0 0 24 24\"\n",
              "     width=\"24px\">\n",
              "    <g>\n",
              "        <path d=\"M19 3H5c-1.1 0-2 .9-2 2v14c0 1.1.9 2 2 2h14c1.1 0 2-.9 2-2V5c0-1.1-.9-2-2-2zM9 17H7v-7h2v7zm4 0h-2V7h2v10zm4 0h-2v-4h2v4z\"/>\n",
              "    </g>\n",
              "</svg>\n",
              "  </button>\n",
              "\n",
              "<style>\n",
              "  .colab-df-quickchart {\n",
              "    background-color: #E8F0FE;\n",
              "    border: none;\n",
              "    border-radius: 50%;\n",
              "    cursor: pointer;\n",
              "    display: none;\n",
              "    fill: #1967D2;\n",
              "    height: 32px;\n",
              "    padding: 0 0 0 0;\n",
              "    width: 32px;\n",
              "  }\n",
              "\n",
              "  .colab-df-quickchart:hover {\n",
              "    background-color: #E2EBFA;\n",
              "    box-shadow: 0px 1px 2px rgba(60, 64, 67, 0.3), 0px 1px 3px 1px rgba(60, 64, 67, 0.15);\n",
              "    fill: #174EA6;\n",
              "  }\n",
              "\n",
              "  [theme=dark] .colab-df-quickchart {\n",
              "    background-color: #3B4455;\n",
              "    fill: #D2E3FC;\n",
              "  }\n",
              "\n",
              "  [theme=dark] .colab-df-quickchart:hover {\n",
              "    background-color: #434B5C;\n",
              "    box-shadow: 0px 1px 3px 1px rgba(0, 0, 0, 0.15);\n",
              "    filter: drop-shadow(0px 1px 2px rgba(0, 0, 0, 0.3));\n",
              "    fill: #FFFFFF;\n",
              "  }\n",
              "</style>\n",
              "\n",
              "  <script>\n",
              "    async function quickchart(key) {\n",
              "      const charts = await google.colab.kernel.invokeFunction(\n",
              "          'suggestCharts', [key], {});\n",
              "    }\n",
              "    (() => {\n",
              "      let quickchartButtonEl =\n",
              "        document.querySelector('#df-bf3ad258-cdc3-48f9-bb1b-1fe533b6f46c button');\n",
              "      quickchartButtonEl.style.display =\n",
              "        google.colab.kernel.accessAllowed ? 'block' : 'none';\n",
              "    })();\n",
              "  </script>\n",
              "</div>\n",
              "    </div>\n",
              "  </div>\n"
            ]
          },
          "metadata": {},
          "execution_count": 37
        }
      ]
    },
    {
      "cell_type": "code",
      "source": [
        "dataset = dataset[['review_description','rating']]"
      ],
      "metadata": {
        "id": "jZKOTjshzj3y"
      },
      "execution_count": 38,
      "outputs": []
    },
    {
      "cell_type": "code",
      "source": [
        "dataset['review_description'] = dataset['review_description'].apply(lambda x: x.lower())\n",
        "dataset['review_description'] = dataset['review_description'].apply((lambda x: re.sub('[^a-zA-z0-9\\s]','',x)))"
      ],
      "metadata": {
        "id": "SkZIbtKLz9CS"
      },
      "execution_count": 39,
      "outputs": []
    },
    {
      "cell_type": "code",
      "source": [
        "for idx,row in dataset.iterrows():\n",
        "    row[0] = row[0].replace('rt',' ')\n",
        "\n",
        "max_fatures = 2000\n",
        "tokenizer = Tokenizer(num_words=max_fatures, split=' ')\n",
        "tokenizer.fit_on_texts(dataset['review_description'].values)\n",
        "X = tokenizer.texts_to_sequences(dataset['review_description'].values)\n",
        "X = pad_sequences(X)"
      ],
      "metadata": {
        "id": "VliCUrWF1Auw"
      },
      "execution_count": 46,
      "outputs": []
    },
    {
      "cell_type": "code",
      "source": [
        "embed_dim = 128\n",
        "lstm_out = 196\n",
        "\n",
        "model = Sequential()\n",
        "model.add(Embedding(max_fatures, embed_dim,input_length = X.shape[1]))\n",
        "model.add(SpatialDropout1D(0.4))\n",
        "model.add(LSTM(lstm_out, dropout=0.2, recurrent_dropout=0.2))\n",
        "model.add(Dense(5,activation='softmax'))\n",
        "model.compile(loss = 'categorical_crossentropy', optimizer='adam',metrics = ['accuracy'])\n",
        "print(model.summary())"
      ],
      "metadata": {
        "colab": {
          "base_uri": "https://localhost:8080/"
        },
        "id": "6nmP7yCV1RuL",
        "outputId": "203148a9-bf2b-4a31-8566-c2078d1ea542"
      },
      "execution_count": 41,
      "outputs": [
        {
          "output_type": "stream",
          "name": "stderr",
          "text": [
            "WARNING:tensorflow:Layer lstm_2 will not use cuDNN kernels since it doesn't meet the criteria. It will use a generic GPU kernel as fallback when running on GPU.\n"
          ]
        },
        {
          "output_type": "stream",
          "name": "stdout",
          "text": [
            "Model: \"sequential_2\"\n",
            "_________________________________________________________________\n",
            " Layer (type)                Output Shape              Param #   \n",
            "=================================================================\n",
            " embedding_2 (Embedding)     (None, 372, 128)          256000    \n",
            "                                                                 \n",
            " spatial_dropout1d_2 (Spatia  (None, 372, 128)         0         \n",
            " lDropout1D)                                                     \n",
            "                                                                 \n",
            " lstm_2 (LSTM)               (None, 196)               254800    \n",
            "                                                                 \n",
            " dense_2 (Dense)             (None, 5)                 985       \n",
            "                                                                 \n",
            "=================================================================\n",
            "Total params: 511,785\n",
            "Trainable params: 511,785\n",
            "Non-trainable params: 0\n",
            "_________________________________________________________________\n",
            "None\n"
          ]
        }
      ]
    },
    {
      "cell_type": "code",
      "source": [
        "Y = pd.get_dummies(dataset['rating']).values\n",
        "X_train, X_test, Y_train, Y_test = train_test_split(X,Y, test_size = 0.33, random_state = 42)\n",
        "print(X_train.shape,Y_train.shape)\n",
        "print(X_test.shape,Y_test.shape)"
      ],
      "metadata": {
        "colab": {
          "base_uri": "https://localhost:8080/"
        },
        "id": "SENCwzHj1Sr4",
        "outputId": "6227f9cf-e24e-4042-d506-421c74d3b6ec"
      },
      "execution_count": 42,
      "outputs": [
        {
          "output_type": "stream",
          "name": "stdout",
          "text": [
            "(24751, 372) (24751, 5)\n",
            "(12192, 372) (12192, 5)\n"
          ]
        }
      ]
    },
    {
      "cell_type": "code",
      "source": [
        "batch_size = 1000\n",
        "model.fit(X_train, Y_train, epochs = 20, batch_size=batch_size, verbose = 2)"
      ],
      "metadata": {
        "colab": {
          "base_uri": "https://localhost:8080/"
        },
        "id": "EvYIijc31hto",
        "outputId": "9f886855-333a-4383-f31f-d124254a41b8"
      },
      "execution_count": 52,
      "outputs": [
        {
          "output_type": "stream",
          "name": "stdout",
          "text": [
            "Epoch 1/20\n",
            "25/25 - 50s - loss: 0.8328 - accuracy: 0.7117 - 50s/epoch - 2s/step\n",
            "Epoch 2/20\n",
            "25/25 - 47s - loss: 0.8247 - accuracy: 0.7147 - 47s/epoch - 2s/step\n",
            "Epoch 3/20\n",
            "25/25 - 46s - loss: 0.8199 - accuracy: 0.7131 - 46s/epoch - 2s/step\n",
            "Epoch 4/20\n",
            "25/25 - 51s - loss: 0.8095 - accuracy: 0.7189 - 51s/epoch - 2s/step\n",
            "Epoch 5/20\n",
            "25/25 - 47s - loss: 0.8032 - accuracy: 0.7222 - 47s/epoch - 2s/step\n",
            "Epoch 6/20\n",
            "25/25 - 46s - loss: 0.7978 - accuracy: 0.7241 - 46s/epoch - 2s/step\n",
            "Epoch 7/20\n",
            "25/25 - 48s - loss: 0.7924 - accuracy: 0.7250 - 48s/epoch - 2s/step\n",
            "Epoch 8/20\n",
            "25/25 - 48s - loss: 0.7853 - accuracy: 0.7276 - 48s/epoch - 2s/step\n",
            "Epoch 9/20\n",
            "25/25 - 49s - loss: 0.7820 - accuracy: 0.7275 - 49s/epoch - 2s/step\n",
            "Epoch 10/20\n",
            "25/25 - 47s - loss: 0.7749 - accuracy: 0.7324 - 47s/epoch - 2s/step\n",
            "Epoch 11/20\n",
            "25/25 - 48s - loss: 0.7713 - accuracy: 0.7344 - 48s/epoch - 2s/step\n",
            "Epoch 12/20\n",
            "25/25 - 48s - loss: 0.7619 - accuracy: 0.7370 - 48s/epoch - 2s/step\n",
            "Epoch 13/20\n",
            "25/25 - 45s - loss: 0.7541 - accuracy: 0.7415 - 45s/epoch - 2s/step\n",
            "Epoch 14/20\n",
            "25/25 - 47s - loss: 0.7507 - accuracy: 0.7424 - 47s/epoch - 2s/step\n",
            "Epoch 15/20\n",
            "25/25 - 48s - loss: 0.7444 - accuracy: 0.7442 - 48s/epoch - 2s/step\n",
            "Epoch 16/20\n",
            "25/25 - 49s - loss: 0.7359 - accuracy: 0.7467 - 49s/epoch - 2s/step\n",
            "Epoch 17/20\n",
            "25/25 - 45s - loss: 0.7334 - accuracy: 0.7473 - 45s/epoch - 2s/step\n",
            "Epoch 18/20\n",
            "25/25 - 46s - loss: 0.7260 - accuracy: 0.7498 - 46s/epoch - 2s/step\n",
            "Epoch 19/20\n",
            "25/25 - 45s - loss: 0.7176 - accuracy: 0.7523 - 45s/epoch - 2s/step\n",
            "Epoch 20/20\n",
            "25/25 - 47s - loss: 0.7044 - accuracy: 0.7591 - 47s/epoch - 2s/step\n"
          ]
        },
        {
          "output_type": "execute_result",
          "data": {
            "text/plain": [
              "<keras.callbacks.History at 0x7a3fd41bf640>"
            ]
          },
          "metadata": {},
          "execution_count": 52
        }
      ]
    },
    {
      "cell_type": "code",
      "source": [
        "validation_size = 1500\n",
        "\n",
        "X_validate = X_test[-validation_size:]\n",
        "Y_validate = Y_test[-validation_size:]\n",
        "X_test = X_test[:-validation_size]\n",
        "Y_test = Y_test[:-validation_size]\n",
        "score,acc = model.evaluate(X_test, Y_test, verbose = 2, batch_size = batch_size)\n",
        "print(\"score: %.2f\" % (score))\n",
        "print(\"acc: %.2f\" % (acc))"
      ],
      "metadata": {
        "colab": {
          "base_uri": "https://localhost:8080/"
        },
        "id": "bMYm_w4z1ofv",
        "outputId": "0997c127-6f56-4e40-c2aa-f7dbea5a484e"
      },
      "execution_count": 53,
      "outputs": [
        {
          "output_type": "stream",
          "name": "stdout",
          "text": [
            "10/10 - 2s - loss: 0.9817 - accuracy: 0.6757 - 2s/epoch - 169ms/step\n",
            "score: 0.98\n",
            "acc: 0.68\n"
          ]
        }
      ]
    },
    {
      "cell_type": "code",
      "source": [
        "def predict_sentiment(review_text, model, tokenizer):\n",
        "    review_text = review_text.lower()\n",
        "    review_text = re.sub('[^a-zA-Z0-9\\s]', '', review_text)\n",
        "    review_text = review_text.replace('rt', ' ')\n",
        "\n",
        "    review_seq = tokenizer.texts_to_sequences([review_text])\n",
        "    review_padded = pad_sequences(review_seq, maxlen=X.shape[1])\n",
        "\n",
        "    sentiment_probs = model.predict(review_padded)[0]\n",
        "    predicted_sentiment = np.argmax(sentiment_probs) + 1\n",
        "\n",
        "    return predicted_sentiment\n",
        "\n",
        "# Example usage:\n",
        "sample_review = \"i wish threads have a save button for images and videos. i would like to save the memes. plssss consider this proposition. thank you.\"\n",
        "predicted_rating = predict_sentiment(sample_review, model, tokenizer)\n",
        "print(\"Predicted Rating:\", predicted_rating)"
      ],
      "metadata": {
        "colab": {
          "base_uri": "https://localhost:8080/"
        },
        "id": "BBX1sTKL8TM3",
        "outputId": "3a0f27f0-41de-4c93-d7a1-a9cb2a82e6fe"
      },
      "execution_count": 54,
      "outputs": [
        {
          "output_type": "stream",
          "name": "stdout",
          "text": [
            "1/1 [==============================] - 0s 113ms/step\n",
            "Predicted Rating: 3\n"
          ]
        }
      ]
    }
  ]
}